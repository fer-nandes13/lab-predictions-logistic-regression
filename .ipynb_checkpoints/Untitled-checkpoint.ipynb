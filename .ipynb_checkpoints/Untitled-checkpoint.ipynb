{
 "cells": [
  {
   "cell_type": "code",
   "execution_count": 1,
   "id": "8bb27761",
   "metadata": {},
   "outputs": [
    {
     "name": "stdout",
     "output_type": "stream",
     "text": [
      "········\n"
     ]
    }
   ],
   "source": [
    "# prep: import modules and get pwd\n",
    "import pymysql\n",
    "from sqlalchemy import create_engine\n",
    "import pandas as pd\n",
    "import getpass  # To get the password without showing the input\n",
    "password = getpass.getpass()"
   ]
  },
  {
   "cell_type": "code",
   "execution_count": 2,
   "id": "c0705f89",
   "metadata": {},
   "outputs": [
    {
     "data": {
      "text/html": [
       "<div>\n",
       "<style scoped>\n",
       "    .dataframe tbody tr th:only-of-type {\n",
       "        vertical-align: middle;\n",
       "    }\n",
       "\n",
       "    .dataframe tbody tr th {\n",
       "        vertical-align: top;\n",
       "    }\n",
       "\n",
       "    .dataframe thead th {\n",
       "        text-align: right;\n",
       "    }\n",
       "</style>\n",
       "<table border=\"1\" class=\"dataframe\">\n",
       "  <thead>\n",
       "    <tr style=\"text-align: right;\">\n",
       "      <th></th>\n",
       "      <th>title</th>\n",
       "      <th>release_year</th>\n",
       "      <th>replacement_cost</th>\n",
       "      <th>rental_rate</th>\n",
       "      <th>length</th>\n",
       "      <th>rating</th>\n",
       "      <th>special_features</th>\n",
       "      <th>num_rentals</th>\n",
       "    </tr>\n",
       "  </thead>\n",
       "  <tbody>\n",
       "    <tr>\n",
       "      <th>0</th>\n",
       "      <td>ACADEMY DINOSAUR</td>\n",
       "      <td>2006</td>\n",
       "      <td>20.99</td>\n",
       "      <td>0.99</td>\n",
       "      <td>86</td>\n",
       "      <td>PG</td>\n",
       "      <td>Deleted Scenes,Behind the Scenes</td>\n",
       "      <td>23</td>\n",
       "    </tr>\n",
       "    <tr>\n",
       "      <th>1</th>\n",
       "      <td>ACE GOLDFINGER</td>\n",
       "      <td>2006</td>\n",
       "      <td>12.99</td>\n",
       "      <td>4.99</td>\n",
       "      <td>48</td>\n",
       "      <td>G</td>\n",
       "      <td>Trailers,Deleted Scenes</td>\n",
       "      <td>7</td>\n",
       "    </tr>\n",
       "    <tr>\n",
       "      <th>2</th>\n",
       "      <td>ADAPTATION HOLES</td>\n",
       "      <td>2006</td>\n",
       "      <td>18.99</td>\n",
       "      <td>2.99</td>\n",
       "      <td>50</td>\n",
       "      <td>NC-17</td>\n",
       "      <td>Trailers,Deleted Scenes</td>\n",
       "      <td>12</td>\n",
       "    </tr>\n",
       "    <tr>\n",
       "      <th>3</th>\n",
       "      <td>AFFAIR PREJUDICE</td>\n",
       "      <td>2006</td>\n",
       "      <td>26.99</td>\n",
       "      <td>2.99</td>\n",
       "      <td>117</td>\n",
       "      <td>G</td>\n",
       "      <td>Commentaries,Behind the Scenes</td>\n",
       "      <td>23</td>\n",
       "    </tr>\n",
       "    <tr>\n",
       "      <th>4</th>\n",
       "      <td>AFRICAN EGG</td>\n",
       "      <td>2006</td>\n",
       "      <td>22.99</td>\n",
       "      <td>2.99</td>\n",
       "      <td>130</td>\n",
       "      <td>G</td>\n",
       "      <td>Deleted Scenes</td>\n",
       "      <td>12</td>\n",
       "    </tr>\n",
       "  </tbody>\n",
       "</table>\n",
       "</div>"
      ],
      "text/plain": [
       "              title  release_year  replacement_cost  rental_rate  length  \\\n",
       "0  ACADEMY DINOSAUR          2006             20.99         0.99      86   \n",
       "1    ACE GOLDFINGER          2006             12.99         4.99      48   \n",
       "2  ADAPTATION HOLES          2006             18.99         2.99      50   \n",
       "3  AFFAIR PREJUDICE          2006             26.99         2.99     117   \n",
       "4       AFRICAN EGG          2006             22.99         2.99     130   \n",
       "\n",
       "  rating                  special_features  num_rentals  \n",
       "0     PG  Deleted Scenes,Behind the Scenes           23  \n",
       "1      G           Trailers,Deleted Scenes            7  \n",
       "2  NC-17           Trailers,Deleted Scenes           12  \n",
       "3      G    Commentaries,Behind the Scenes           23  \n",
       "4      G                    Deleted Scenes           12  "
      ]
     },
     "execution_count": 2,
     "metadata": {},
     "output_type": "execute_result"
    }
   ],
   "source": [
    "# getting the data with a personal  perspective in terms of importance to the model\n",
    "\n",
    "connection_string = 'mysql+pymysql://root:' + password + '@localhost/sakila'\n",
    "engine = create_engine(connection_string)\n",
    "query = '''SELECT f.title, f.release_year,f.replacement_cost, f.rental_rate, f.length, f.rating, f.special_features, COUNT(r.rental_date) AS num_rentals\n",
    "FROM film f\n",
    "LEFT JOIN inventory i ON f.film_id = i.film_id\n",
    "LEFT JOIN rental r ON i.inventory_id = r.inventory_id\n",
    "GROUP BY f.film_id;'''\n",
    "data = pd.read_sql_query(query, engine)\n",
    "data.head()\n",
    "\n"
   ]
  },
  {
   "cell_type": "code",
   "execution_count": 3,
   "id": "df1353c5",
   "metadata": {},
   "outputs": [
    {
     "data": {
      "text/html": [
       "<div>\n",
       "<style scoped>\n",
       "    .dataframe tbody tr th:only-of-type {\n",
       "        vertical-align: middle;\n",
       "    }\n",
       "\n",
       "    .dataframe tbody tr th {\n",
       "        vertical-align: top;\n",
       "    }\n",
       "\n",
       "    .dataframe thead th {\n",
       "        text-align: right;\n",
       "    }\n",
       "</style>\n",
       "<table border=\"1\" class=\"dataframe\">\n",
       "  <thead>\n",
       "    <tr style=\"text-align: right;\">\n",
       "      <th></th>\n",
       "      <th>title</th>\n",
       "      <th>rented_in_may</th>\n",
       "    </tr>\n",
       "  </thead>\n",
       "  <tbody>\n",
       "    <tr>\n",
       "      <th>0</th>\n",
       "      <td>ACADEMY DINOSAUR</td>\n",
       "      <td>1</td>\n",
       "    </tr>\n",
       "    <tr>\n",
       "      <th>1</th>\n",
       "      <td>ACE GOLDFINGER</td>\n",
       "      <td>0</td>\n",
       "    </tr>\n",
       "    <tr>\n",
       "      <th>2</th>\n",
       "      <td>ADAPTATION HOLES</td>\n",
       "      <td>1</td>\n",
       "    </tr>\n",
       "    <tr>\n",
       "      <th>3</th>\n",
       "      <td>AFFAIR PREJUDICE</td>\n",
       "      <td>1</td>\n",
       "    </tr>\n",
       "    <tr>\n",
       "      <th>4</th>\n",
       "      <td>AFRICAN EGG</td>\n",
       "      <td>1</td>\n",
       "    </tr>\n",
       "  </tbody>\n",
       "</table>\n",
       "</div>"
      ],
      "text/plain": [
       "              title  rented_in_may\n",
       "0  ACADEMY DINOSAUR              1\n",
       "1    ACE GOLDFINGER              0\n",
       "2  ADAPTATION HOLES              1\n",
       "3  AFFAIR PREJUDICE              1\n",
       "4       AFRICAN EGG              1"
      ]
     },
     "execution_count": 3,
     "metadata": {},
     "output_type": "execute_result"
    }
   ],
   "source": [
    "#Create a query to get the list of all unique film titles and \n",
    "#a boolean indicating if it was rented (rental_date) in May 2005. (Create new column called - 'rented_in_may'). This will be our TARGET (y) variable.\n",
    "#In the field rented_in_may the number 1 stands for True and 0 for False (rented in May).\n",
    "query1 = '''SELECT\n",
    "    f.title,\n",
    "    MAX(CASE WHEN r.rental_date >= '2005-05-01' AND r.rental_date < '2005-06-01' THEN 1 ELSE 0 END) AS rented_in_may\n",
    "FROM\n",
    "    sakila.film AS f\n",
    "LEFT JOIN\n",
    "    sakila.inventory AS i ON f.film_id = i.film_id\n",
    "LEFT JOIN\n",
    "    sakila.rental AS r ON i.inventory_id = r.inventory_id\n",
    "GROUP BY\n",
    "    f.title;'''\n",
    "data1 = pd.read_sql_query(query1, engine)\n",
    "data1.head()"
   ]
  },
  {
   "cell_type": "code",
   "execution_count": 4,
   "id": "b2577c87",
   "metadata": {},
   "outputs": [
    {
     "data": {
      "text/html": [
       "<div>\n",
       "<style scoped>\n",
       "    .dataframe tbody tr th:only-of-type {\n",
       "        vertical-align: middle;\n",
       "    }\n",
       "\n",
       "    .dataframe tbody tr th {\n",
       "        vertical-align: top;\n",
       "    }\n",
       "\n",
       "    .dataframe thead th {\n",
       "        text-align: right;\n",
       "    }\n",
       "</style>\n",
       "<table border=\"1\" class=\"dataframe\">\n",
       "  <thead>\n",
       "    <tr style=\"text-align: right;\">\n",
       "      <th></th>\n",
       "      <th>title</th>\n",
       "      <th>release_year</th>\n",
       "      <th>replacement_cost</th>\n",
       "      <th>rental_rate</th>\n",
       "      <th>length</th>\n",
       "      <th>rating</th>\n",
       "      <th>special_features</th>\n",
       "      <th>num_rentals</th>\n",
       "      <th>rented_in_may</th>\n",
       "    </tr>\n",
       "  </thead>\n",
       "  <tbody>\n",
       "    <tr>\n",
       "      <th>0</th>\n",
       "      <td>ACADEMY DINOSAUR</td>\n",
       "      <td>2006</td>\n",
       "      <td>20.99</td>\n",
       "      <td>0.99</td>\n",
       "      <td>86</td>\n",
       "      <td>PG</td>\n",
       "      <td>Deleted Scenes,Behind the Scenes</td>\n",
       "      <td>23</td>\n",
       "      <td>1</td>\n",
       "    </tr>\n",
       "    <tr>\n",
       "      <th>1</th>\n",
       "      <td>ACE GOLDFINGER</td>\n",
       "      <td>2006</td>\n",
       "      <td>12.99</td>\n",
       "      <td>4.99</td>\n",
       "      <td>48</td>\n",
       "      <td>G</td>\n",
       "      <td>Trailers,Deleted Scenes</td>\n",
       "      <td>7</td>\n",
       "      <td>0</td>\n",
       "    </tr>\n",
       "    <tr>\n",
       "      <th>2</th>\n",
       "      <td>ADAPTATION HOLES</td>\n",
       "      <td>2006</td>\n",
       "      <td>18.99</td>\n",
       "      <td>2.99</td>\n",
       "      <td>50</td>\n",
       "      <td>NC-17</td>\n",
       "      <td>Trailers,Deleted Scenes</td>\n",
       "      <td>12</td>\n",
       "      <td>1</td>\n",
       "    </tr>\n",
       "    <tr>\n",
       "      <th>3</th>\n",
       "      <td>AFFAIR PREJUDICE</td>\n",
       "      <td>2006</td>\n",
       "      <td>26.99</td>\n",
       "      <td>2.99</td>\n",
       "      <td>117</td>\n",
       "      <td>G</td>\n",
       "      <td>Commentaries,Behind the Scenes</td>\n",
       "      <td>23</td>\n",
       "      <td>1</td>\n",
       "    </tr>\n",
       "    <tr>\n",
       "      <th>4</th>\n",
       "      <td>AFRICAN EGG</td>\n",
       "      <td>2006</td>\n",
       "      <td>22.99</td>\n",
       "      <td>2.99</td>\n",
       "      <td>130</td>\n",
       "      <td>G</td>\n",
       "      <td>Deleted Scenes</td>\n",
       "      <td>12</td>\n",
       "      <td>1</td>\n",
       "    </tr>\n",
       "    <tr>\n",
       "      <th>...</th>\n",
       "      <td>...</td>\n",
       "      <td>...</td>\n",
       "      <td>...</td>\n",
       "      <td>...</td>\n",
       "      <td>...</td>\n",
       "      <td>...</td>\n",
       "      <td>...</td>\n",
       "      <td>...</td>\n",
       "      <td>...</td>\n",
       "    </tr>\n",
       "    <tr>\n",
       "      <th>995</th>\n",
       "      <td>YOUNG LANGUAGE</td>\n",
       "      <td>2006</td>\n",
       "      <td>9.99</td>\n",
       "      <td>0.99</td>\n",
       "      <td>183</td>\n",
       "      <td>G</td>\n",
       "      <td>Trailers,Behind the Scenes</td>\n",
       "      <td>7</td>\n",
       "      <td>0</td>\n",
       "    </tr>\n",
       "    <tr>\n",
       "      <th>996</th>\n",
       "      <td>YOUTH KICK</td>\n",
       "      <td>2006</td>\n",
       "      <td>14.99</td>\n",
       "      <td>0.99</td>\n",
       "      <td>179</td>\n",
       "      <td>NC-17</td>\n",
       "      <td>Trailers,Behind the Scenes</td>\n",
       "      <td>6</td>\n",
       "      <td>0</td>\n",
       "    </tr>\n",
       "    <tr>\n",
       "      <th>997</th>\n",
       "      <td>ZHIVAGO CORE</td>\n",
       "      <td>2006</td>\n",
       "      <td>10.99</td>\n",
       "      <td>0.99</td>\n",
       "      <td>105</td>\n",
       "      <td>NC-17</td>\n",
       "      <td>Deleted Scenes</td>\n",
       "      <td>9</td>\n",
       "      <td>1</td>\n",
       "    </tr>\n",
       "    <tr>\n",
       "      <th>998</th>\n",
       "      <td>ZOOLANDER FICTION</td>\n",
       "      <td>2006</td>\n",
       "      <td>28.99</td>\n",
       "      <td>2.99</td>\n",
       "      <td>101</td>\n",
       "      <td>R</td>\n",
       "      <td>Trailers,Deleted Scenes</td>\n",
       "      <td>17</td>\n",
       "      <td>1</td>\n",
       "    </tr>\n",
       "    <tr>\n",
       "      <th>999</th>\n",
       "      <td>ZORRO ARK</td>\n",
       "      <td>2006</td>\n",
       "      <td>18.99</td>\n",
       "      <td>4.99</td>\n",
       "      <td>50</td>\n",
       "      <td>NC-17</td>\n",
       "      <td>Trailers,Commentaries,Behind the Scenes</td>\n",
       "      <td>31</td>\n",
       "      <td>1</td>\n",
       "    </tr>\n",
       "  </tbody>\n",
       "</table>\n",
       "<p>1000 rows × 9 columns</p>\n",
       "</div>"
      ],
      "text/plain": [
       "                 title  release_year  replacement_cost  rental_rate  length  \\\n",
       "0     ACADEMY DINOSAUR          2006             20.99         0.99      86   \n",
       "1       ACE GOLDFINGER          2006             12.99         4.99      48   \n",
       "2     ADAPTATION HOLES          2006             18.99         2.99      50   \n",
       "3     AFFAIR PREJUDICE          2006             26.99         2.99     117   \n",
       "4          AFRICAN EGG          2006             22.99         2.99     130   \n",
       "..                 ...           ...               ...          ...     ...   \n",
       "995     YOUNG LANGUAGE          2006              9.99         0.99     183   \n",
       "996         YOUTH KICK          2006             14.99         0.99     179   \n",
       "997       ZHIVAGO CORE          2006             10.99         0.99     105   \n",
       "998  ZOOLANDER FICTION          2006             28.99         2.99     101   \n",
       "999          ZORRO ARK          2006             18.99         4.99      50   \n",
       "\n",
       "    rating                         special_features  num_rentals  \\\n",
       "0       PG         Deleted Scenes,Behind the Scenes           23   \n",
       "1        G                  Trailers,Deleted Scenes            7   \n",
       "2    NC-17                  Trailers,Deleted Scenes           12   \n",
       "3        G           Commentaries,Behind the Scenes           23   \n",
       "4        G                           Deleted Scenes           12   \n",
       "..     ...                                      ...          ...   \n",
       "995      G               Trailers,Behind the Scenes            7   \n",
       "996  NC-17               Trailers,Behind the Scenes            6   \n",
       "997  NC-17                           Deleted Scenes            9   \n",
       "998      R                  Trailers,Deleted Scenes           17   \n",
       "999  NC-17  Trailers,Commentaries,Behind the Scenes           31   \n",
       "\n",
       "     rented_in_may  \n",
       "0                1  \n",
       "1                0  \n",
       "2                1  \n",
       "3                1  \n",
       "4                1  \n",
       "..             ...  \n",
       "995              0  \n",
       "996              0  \n",
       "997              1  \n",
       "998              1  \n",
       "999              1  \n",
       "\n",
       "[1000 rows x 9 columns]"
      ]
     },
     "execution_count": 4,
     "metadata": {},
     "output_type": "execute_result"
    }
   ],
   "source": [
    "#Merging the original dataframe with the dataframe with films rented in may\n",
    "\n",
    "dataframe = data.merge(data1, on='title', how='left')\n",
    "dataframe"
   ]
  },
  {
   "cell_type": "code",
   "execution_count": 5,
   "id": "bf8129f6",
   "metadata": {},
   "outputs": [
    {
     "data": {
      "text/plain": [
       "title               0\n",
       "release_year        0\n",
       "replacement_cost    0\n",
       "rental_rate         0\n",
       "length              0\n",
       "rating              0\n",
       "special_features    0\n",
       "num_rentals         0\n",
       "rented_in_may       0\n",
       "dtype: int64"
      ]
     },
     "execution_count": 5,
     "metadata": {},
     "output_type": "execute_result"
    }
   ],
   "source": [
    "#Checking for null values\n",
    "\n",
    "dataframe.isna().sum()"
   ]
  },
  {
   "cell_type": "code",
   "execution_count": 6,
   "id": "d64685a8",
   "metadata": {},
   "outputs": [],
   "source": [
    "import matplotlib.pyplot as plt\n",
    "import seaborn as sns"
   ]
  },
  {
   "cell_type": "code",
   "execution_count": 7,
   "id": "b01e5f82",
   "metadata": {},
   "outputs": [
    {
     "name": "stderr",
     "output_type": "stream",
     "text": [
      "C:\\Users\\Startklar\\AppData\\Local\\Temp\\ipykernel_21400\\1009099767.py:1: FutureWarning: The default value of numeric_only in DataFrame.corr is deprecated. In a future version, it will default to False. Select only valid columns or specify the value of numeric_only to silence this warning.\n",
      "  corr_matrix=data.corr()  # default\n"
     ]
    },
    {
     "data": {
      "image/png": "[encoded data removed]",
      "text/plain": [
       "<Figure size 1000x800 with 2 Axes>"
      ]
     },
     "metadata": {},
     "output_type": "display_data"
    }
   ],
   "source": [
    "corr_matrix=data.corr()  # default\n",
    "fig, ax = plt.subplots(figsize=(10, 8))\n",
    "ax = sns.heatmap(corr_matrix, annot=True)\n",
    "plt.show()\n",
    "\n",
    "\n",
    "# Looking at the correlation heat map below there is no high correlation between the numerical variables picked to the model"
   ]
  },
  {
   "cell_type": "code",
   "execution_count": 8,
   "id": "124469b6",
   "metadata": {},
   "outputs": [
    {
     "data": {
      "text/plain": [
       "15"
      ]
     },
     "execution_count": 8,
     "metadata": {},
     "output_type": "execute_result"
    }
   ],
   "source": [
    "\n",
    "unique_special_features_count = dataframe['special_features'].nunique()\n",
    "unique_special_features_count\n"
   ]
  },
  {
   "cell_type": "code",
   "execution_count": 9,
   "id": "e9a76ddd",
   "metadata": {},
   "outputs": [
    {
     "data": {
      "text/plain": [
       "Trailers,Commentaries,Behind the Scenes                   79\n",
       "Trailers                                                  72\n",
       "Trailers,Commentaries                                     72\n",
       "Trailers,Behind the Scenes                                72\n",
       "Deleted Scenes,Behind the Scenes                          71\n",
       "Commentaries,Behind the Scenes                            70\n",
       "Behind the Scenes                                         70\n",
       "Trailers,Deleted Scenes                                   66\n",
       "Commentaries,Deleted Scenes,Behind the Scenes             66\n",
       "Commentaries,Deleted Scenes                               65\n",
       "Trailers,Commentaries,Deleted Scenes                      64\n",
       "Commentaries                                              62\n",
       "Deleted Scenes                                            61\n",
       "Trailers,Commentaries,Deleted Scenes,Behind the Scenes    61\n",
       "Trailers,Deleted Scenes,Behind the Scenes                 49\n",
       "Name: special_features, dtype: int64"
      ]
     },
     "execution_count": 9,
     "metadata": {},
     "output_type": "execute_result"
    }
   ],
   "source": [
    "value_counts_special_features = dataframe['special_features'].value_counts()\n",
    "value_counts_special_features\n"
   ]
  },
  {
   "cell_type": "code",
   "execution_count": 10,
   "id": "4d834f49",
   "metadata": {},
   "outputs": [
    {
     "data": {
      "text/plain": [
       "1000"
      ]
     },
     "execution_count": 10,
     "metadata": {},
     "output_type": "execute_result"
    }
   ],
   "source": [
    "unique_title_count = dataframe['title'].nunique()\n",
    "unique_title_count\n"
   ]
  },
  {
   "cell_type": "code",
   "execution_count": 11,
   "id": "8fe3b508",
   "metadata": {},
   "outputs": [
    {
     "data": {
      "text/plain": [
       "PG-13    223\n",
       "NC-17    210\n",
       "R        195\n",
       "PG       194\n",
       "G        178\n",
       "Name: rating, dtype: int64"
      ]
     },
     "execution_count": 11,
     "metadata": {},
     "output_type": "execute_result"
    }
   ],
   "source": [
    "rating_value_counts = dataframe['rating'].value_counts()\n",
    "rating_value_counts"
   ]
  },
  {
   "cell_type": "code",
   "execution_count": 12,
   "id": "3e47ee39",
   "metadata": {},
   "outputs": [
    {
     "data": {
      "text/html": [
       "<div>\n",
       "<style scoped>\n",
       "    .dataframe tbody tr th:only-of-type {\n",
       "        vertical-align: middle;\n",
       "    }\n",
       "\n",
       "    .dataframe tbody tr th {\n",
       "        vertical-align: top;\n",
       "    }\n",
       "\n",
       "    .dataframe thead th {\n",
       "        text-align: right;\n",
       "    }\n",
       "</style>\n",
       "<table border=\"1\" class=\"dataframe\">\n",
       "  <thead>\n",
       "    <tr style=\"text-align: right;\">\n",
       "      <th></th>\n",
       "      <th>replacement_cost</th>\n",
       "      <th>rental_rate</th>\n",
       "      <th>length</th>\n",
       "      <th>rating</th>\n",
       "      <th>num_rentals</th>\n",
       "      <th>rented_in_may</th>\n",
       "    </tr>\n",
       "  </thead>\n",
       "  <tbody>\n",
       "    <tr>\n",
       "      <th>0</th>\n",
       "      <td>20.99</td>\n",
       "      <td>0.99</td>\n",
       "      <td>86</td>\n",
       "      <td>PG</td>\n",
       "      <td>23</td>\n",
       "      <td>1</td>\n",
       "    </tr>\n",
       "    <tr>\n",
       "      <th>1</th>\n",
       "      <td>12.99</td>\n",
       "      <td>4.99</td>\n",
       "      <td>48</td>\n",
       "      <td>G</td>\n",
       "      <td>7</td>\n",
       "      <td>0</td>\n",
       "    </tr>\n",
       "    <tr>\n",
       "      <th>2</th>\n",
       "      <td>18.99</td>\n",
       "      <td>2.99</td>\n",
       "      <td>50</td>\n",
       "      <td>NC-17</td>\n",
       "      <td>12</td>\n",
       "      <td>1</td>\n",
       "    </tr>\n",
       "    <tr>\n",
       "      <th>3</th>\n",
       "      <td>26.99</td>\n",
       "      <td>2.99</td>\n",
       "      <td>117</td>\n",
       "      <td>G</td>\n",
       "      <td>23</td>\n",
       "      <td>1</td>\n",
       "    </tr>\n",
       "    <tr>\n",
       "      <th>4</th>\n",
       "      <td>22.99</td>\n",
       "      <td>2.99</td>\n",
       "      <td>130</td>\n",
       "      <td>G</td>\n",
       "      <td>12</td>\n",
       "      <td>1</td>\n",
       "    </tr>\n",
       "    <tr>\n",
       "      <th>...</th>\n",
       "      <td>...</td>\n",
       "      <td>...</td>\n",
       "      <td>...</td>\n",
       "      <td>...</td>\n",
       "      <td>...</td>\n",
       "      <td>...</td>\n",
       "    </tr>\n",
       "    <tr>\n",
       "      <th>995</th>\n",
       "      <td>9.99</td>\n",
       "      <td>0.99</td>\n",
       "      <td>183</td>\n",
       "      <td>G</td>\n",
       "      <td>7</td>\n",
       "      <td>0</td>\n",
       "    </tr>\n",
       "    <tr>\n",
       "      <th>996</th>\n",
       "      <td>14.99</td>\n",
       "      <td>0.99</td>\n",
       "      <td>179</td>\n",
       "      <td>NC-17</td>\n",
       "      <td>6</td>\n",
       "      <td>0</td>\n",
       "    </tr>\n",
       "    <tr>\n",
       "      <th>997</th>\n",
       "      <td>10.99</td>\n",
       "      <td>0.99</td>\n",
       "      <td>105</td>\n",
       "      <td>NC-17</td>\n",
       "      <td>9</td>\n",
       "      <td>1</td>\n",
       "    </tr>\n",
       "    <tr>\n",
       "      <th>998</th>\n",
       "      <td>28.99</td>\n",
       "      <td>2.99</td>\n",
       "      <td>101</td>\n",
       "      <td>R</td>\n",
       "      <td>17</td>\n",
       "      <td>1</td>\n",
       "    </tr>\n",
       "    <tr>\n",
       "      <th>999</th>\n",
       "      <td>18.99</td>\n",
       "      <td>4.99</td>\n",
       "      <td>50</td>\n",
       "      <td>NC-17</td>\n",
       "      <td>31</td>\n",
       "      <td>1</td>\n",
       "    </tr>\n",
       "  </tbody>\n",
       "</table>\n",
       "<p>1000 rows × 6 columns</p>\n",
       "</div>"
      ],
      "text/plain": [
       "     replacement_cost  rental_rate  length rating  num_rentals  rented_in_may\n",
       "0               20.99         0.99      86     PG           23              1\n",
       "1               12.99         4.99      48      G            7              0\n",
       "2               18.99         2.99      50  NC-17           12              1\n",
       "3               26.99         2.99     117      G           23              1\n",
       "4               22.99         2.99     130      G           12              1\n",
       "..                ...          ...     ...    ...          ...            ...\n",
       "995              9.99         0.99     183      G            7              0\n",
       "996             14.99         0.99     179  NC-17            6              0\n",
       "997             10.99         0.99     105  NC-17            9              1\n",
       "998             28.99         2.99     101      R           17              1\n",
       "999             18.99         4.99      50  NC-17           31              1\n",
       "\n",
       "[1000 rows x 6 columns]"
      ]
     },
     "execution_count": 12,
     "metadata": {},
     "output_type": "execute_result"
    }
   ],
   "source": [
    "#Removing the categorical variables title and special_featues since the enconding will show many columns due to the number of categories\n",
    "# Release_year only has one year being displayed and it should be treated as categorical\n",
    "dataframe = dataframe.drop(columns=[\"title\", \"special_features\",\"release_year\"])\n",
    "dataframe"
   ]
  },
  {
   "cell_type": "code",
   "execution_count": 13,
   "id": "d47e79ed",
   "metadata": {},
   "outputs": [
    {
     "data": {
      "text/plain": [
       "0.99    341\n",
       "4.99    336\n",
       "2.99    323\n",
       "Name: rental_rate, dtype: int64"
      ]
     },
     "execution_count": 13,
     "metadata": {},
     "output_type": "execute_result"
    }
   ],
   "source": [
    "dataframe.rental_rate.value_counts()"
   ]
  },
  {
   "cell_type": "code",
   "execution_count": 14,
   "id": "fb3edaef",
   "metadata": {},
   "outputs": [
    {
     "data": {
      "text/plain": [
       "replacement_cost    float64\n",
       "rental_rate          object\n",
       "length                int64\n",
       "rating               object\n",
       "num_rentals           int64\n",
       "rented_in_may         int64\n",
       "dtype: object"
      ]
     },
     "execution_count": 14,
     "metadata": {},
     "output_type": "execute_result"
    }
   ],
   "source": [
    "dataframe['rental_rate'] = dataframe['rental_rate'].astype('object') # This will be treated as categorical\n",
    "dataframe_dtypes = dataframe.dtypes\n",
    "dataframe_dtypes\n"
   ]
  },
  {
   "cell_type": "code",
   "execution_count": 15,
   "id": "3396d995",
   "metadata": {},
   "outputs": [],
   "source": [
    "import numpy as np"
   ]
  },
  {
   "cell_type": "code",
   "execution_count": 16,
   "id": "fa79a412",
   "metadata": {},
   "outputs": [
    {
     "ename": "KeyError",
     "evalue": "'t_amount'",
     "output_type": "error",
     "traceback": [
      "\u001b[1;31m---------------------------------------------------------------------------\u001b[0m",
      "\u001b[1;31mKeyError\u001b[0m                                  Traceback (most recent call last)",
      "File \u001b[1;32m~\\anaconda3\\lib\\site-packages\\pandas\\core\\indexes\\base.py:3802\u001b[0m, in \u001b[0;36mIndex.get_loc\u001b[1;34m(self, key, method, tolerance)\u001b[0m\n\u001b[0;32m   3801\u001b[0m \u001b[38;5;28;01mtry\u001b[39;00m:\n\u001b[1;32m-> 3802\u001b[0m     \u001b[38;5;28;01mreturn\u001b[39;00m \u001b[38;5;28;43mself\u001b[39;49m\u001b[38;5;241;43m.\u001b[39;49m\u001b[43m_engine\u001b[49m\u001b[38;5;241;43m.\u001b[39;49m\u001b[43mget_loc\u001b[49m\u001b[43m(\u001b[49m\u001b[43mcasted_key\u001b[49m\u001b[43m)\u001b[49m\n\u001b[0;32m   3803\u001b[0m \u001b[38;5;28;01mexcept\u001b[39;00m \u001b[38;5;167;01mKeyError\u001b[39;00m \u001b[38;5;28;01mas\u001b[39;00m err:\n",
      "File \u001b[1;32m~\\anaconda3\\lib\\site-packages\\pandas\\_libs\\index.pyx:138\u001b[0m, in \u001b[0;36mpandas._libs.index.IndexEngine.get_loc\u001b[1;34m()\u001b[0m\n",
      "File \u001b[1;32m~\\anaconda3\\lib\\site-packages\\pandas\\_libs\\index.pyx:165\u001b[0m, in \u001b[0;36mpandas._libs.index.IndexEngine.get_loc\u001b[1;34m()\u001b[0m\n",
      "File \u001b[1;32mpandas\\_libs\\hashtable_class_helper.pxi:5745\u001b[0m, in \u001b[0;36mpandas._libs.hashtable.PyObjectHashTable.get_item\u001b[1;34m()\u001b[0m\n",
      "File \u001b[1;32mpandas\\_libs\\hashtable_class_helper.pxi:5753\u001b[0m, in \u001b[0;36mpandas._libs.hashtable.PyObjectHashTable.get_item\u001b[1;34m()\u001b[0m\n",
      "\u001b[1;31mKeyError\u001b[0m: 't_amount'",
      "\nThe above exception was the direct cause of the following exception:\n",
      "\u001b[1;31mKeyError\u001b[0m                                  Traceback (most recent call last)",
      "Cell \u001b[1;32mIn[16], line 2\u001b[0m\n\u001b[0;32m      1\u001b[0m \u001b[38;5;66;03m# look at the scale and distribution of values\u001b[39;00m\n\u001b[1;32m----> 2\u001b[0m sns\u001b[38;5;241m.\u001b[39mdisplot(\u001b[43mdata\u001b[49m\u001b[43m[\u001b[49m\u001b[38;5;124;43m'\u001b[39;49m\u001b[38;5;124;43mt_amount\u001b[39;49m\u001b[38;5;124;43m'\u001b[39;49m\u001b[43m]\u001b[49m, kde\u001b[38;5;241m=\u001b[39m\u001b[38;5;28;01mTrue\u001b[39;00m)\n\u001b[0;32m      3\u001b[0m plt\u001b[38;5;241m.\u001b[39mshow()\n\u001b[0;32m      5\u001b[0m sns\u001b[38;5;241m.\u001b[39mdisplot(data[\u001b[38;5;124m'\u001b[39m\u001b[38;5;124ml_amount\u001b[39m\u001b[38;5;124m'\u001b[39m], kde\u001b[38;5;241m=\u001b[39m\u001b[38;5;28;01mTrue\u001b[39;00m)\n",
      "File \u001b[1;32m~\\anaconda3\\lib\\site-packages\\pandas\\core\\frame.py:3807\u001b[0m, in \u001b[0;36mDataFrame.__getitem__\u001b[1;34m(self, key)\u001b[0m\n\u001b[0;32m   3805\u001b[0m \u001b[38;5;28;01mif\u001b[39;00m \u001b[38;5;28mself\u001b[39m\u001b[38;5;241m.\u001b[39mcolumns\u001b[38;5;241m.\u001b[39mnlevels \u001b[38;5;241m>\u001b[39m \u001b[38;5;241m1\u001b[39m:\n\u001b[0;32m   3806\u001b[0m     \u001b[38;5;28;01mreturn\u001b[39;00m \u001b[38;5;28mself\u001b[39m\u001b[38;5;241m.\u001b[39m_getitem_multilevel(key)\n\u001b[1;32m-> 3807\u001b[0m indexer \u001b[38;5;241m=\u001b[39m \u001b[38;5;28;43mself\u001b[39;49m\u001b[38;5;241;43m.\u001b[39;49m\u001b[43mcolumns\u001b[49m\u001b[38;5;241;43m.\u001b[39;49m\u001b[43mget_loc\u001b[49m\u001b[43m(\u001b[49m\u001b[43mkey\u001b[49m\u001b[43m)\u001b[49m\n\u001b[0;32m   3808\u001b[0m \u001b[38;5;28;01mif\u001b[39;00m is_integer(indexer):\n\u001b[0;32m   3809\u001b[0m     indexer \u001b[38;5;241m=\u001b[39m [indexer]\n",
      "File \u001b[1;32m~\\anaconda3\\lib\\site-packages\\pandas\\core\\indexes\\base.py:3804\u001b[0m, in \u001b[0;36mIndex.get_loc\u001b[1;34m(self, key, method, tolerance)\u001b[0m\n\u001b[0;32m   3802\u001b[0m     \u001b[38;5;28;01mreturn\u001b[39;00m \u001b[38;5;28mself\u001b[39m\u001b[38;5;241m.\u001b[39m_engine\u001b[38;5;241m.\u001b[39mget_loc(casted_key)\n\u001b[0;32m   3803\u001b[0m \u001b[38;5;28;01mexcept\u001b[39;00m \u001b[38;5;167;01mKeyError\u001b[39;00m \u001b[38;5;28;01mas\u001b[39;00m err:\n\u001b[1;32m-> 3804\u001b[0m     \u001b[38;5;28;01mraise\u001b[39;00m \u001b[38;5;167;01mKeyError\u001b[39;00m(key) \u001b[38;5;28;01mfrom\u001b[39;00m \u001b[38;5;21;01merr\u001b[39;00m\n\u001b[0;32m   3805\u001b[0m \u001b[38;5;28;01mexcept\u001b[39;00m \u001b[38;5;167;01mTypeError\u001b[39;00m:\n\u001b[0;32m   3806\u001b[0m     \u001b[38;5;66;03m# If we have a listlike key, _check_indexing_error will raise\u001b[39;00m\n\u001b[0;32m   3807\u001b[0m     \u001b[38;5;66;03m#  InvalidIndexError. Otherwise we fall through and re-raise\u001b[39;00m\n\u001b[0;32m   3808\u001b[0m     \u001b[38;5;66;03m#  the TypeError.\u001b[39;00m\n\u001b[0;32m   3809\u001b[0m     \u001b[38;5;28mself\u001b[39m\u001b[38;5;241m.\u001b[39m_check_indexing_error(key)\n",
      "\u001b[1;31mKeyError\u001b[0m: 't_amount'"
     ]
    }
   ],
   "source": [
    "# look at the scale and distribution of values\n",
    "sns.displot(data['replacement_cost'], kde=True)\n",
    "plt.show()\n",
    "\n",
    "sns.displot(data['lenght'], kde=True)\n",
    "plt.show()\n",
    "\n",
    "sns.displot(data['num_rentals'], kde=True)\n",
    "plt.show()\n",
    "\n",
    "sns.displot(data['rented_in_may'], kde=True)\n",
    "plt.show()"
   ]
  },
  {
   "cell_type": "code",
   "execution_count": null,
   "id": "f1d4e12f",
   "metadata": {},
   "outputs": [],
   "source": [
    "#X-y split"
   ]
  }
 ],
 "metadata": {
  "kernelspec": {
   "display_name": "Python 3 (ipykernel)",
   "language": "python",
   "name": "python3"
  },
  "language_info": {
   "codemirror_mode": {
    "name": "ipython",
    "version": 3
   },
   "file_extension": ".py",
   "mimetype": "text/x-python",
   "name": "python",
   "nbconvert_exporter": "python",
   "pygments_lexer": "ipython3",
   "version": "3.10.9"
  }
 },
 "nbformat": 4,
 "nbformat_minor": 5
}
